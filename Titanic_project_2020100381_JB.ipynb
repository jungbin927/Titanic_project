{
 "cells": [
  {
   "cell_type": "code",
   "execution_count": null,
   "id": "02e4a45e-8ca7-44ae-873d-0a2036205d8a",
   "metadata": {},
   "outputs": [],
   "source": [
    "# 기계학습 및 실습 2024년 2학기 중간과제\n",
    "\n",
    "## 타이타닉 데이터셋 분석 \n",
    "\n",
    "인공지능융합학부 안정빈(2020100381)"
   ]
  },
  {
   "cell_type": "code",
   "execution_count": null,
   "id": "8ca86374-437c-4758-a947-72b6fd618dd2",
   "metadata": {},
   "outputs": [],
   "source": []
  }
 ],
 "metadata": {
  "kernelspec": {
   "display_name": "Python 3 (ipykernel)",
   "language": "python",
   "name": "python3"
  },
  "language_info": {
   "codemirror_mode": {
    "name": "ipython",
    "version": 3
   },
   "file_extension": ".py",
   "mimetype": "text/x-python",
   "name": "python",
   "nbconvert_exporter": "python",
   "pygments_lexer": "ipython3",
   "version": "3.12.4"
  }
 },
 "nbformat": 4,
 "nbformat_minor": 5
}
